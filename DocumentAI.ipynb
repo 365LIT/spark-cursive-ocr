{
 "cells": [
  {
   "cell_type": "code",
   "execution_count": 2,
   "metadata": {},
   "outputs": [
    {
     "name": "stdout",
     "output_type": "stream",
     "text": [
      "Error: 401 {\n",
      "  \"error\": {\n",
      "    \"code\": 401,\n",
      "    \"message\": \"Request had invalid authentication credentials. Expected OAuth 2 access token, login cookie or other valid authentication credential. See https://developers.google.com/identity/sign-in/web/devconsole-project.\",\n",
      "    \"status\": \"UNAUTHENTICATED\",\n",
      "    \"details\": [\n",
      "      {\n",
      "        \"@type\": \"type.googleapis.com/google.rpc.ErrorInfo\",\n",
      "        \"reason\": \"ACCESS_TOKEN_TYPE_UNSUPPORTED\",\n",
      "        \"metadata\": {\n",
      "          \"service\": \"documentai.googleapis.com\",\n",
      "          \"method\": \"google.cloud.documentai.v1.DocumentProcessorService.ProcessDocument\"\n",
      "        }\n",
      "      }\n",
      "    ]\n",
      "  }\n",
      "}\n",
      "\n"
     ]
    }
   ],
   "source": [
    "import requests\n",
    "import json\n",
    "\n",
    "def process_document(api_key, project_id, location, processor_id, file_path):\n",
    "    \"\"\"\n",
    "    Processes a document using Google Document AI API.\n",
    "\n",
    "    :param api_key: API key for authentication\n",
    "    :param project_id: Google Cloud Project ID\n",
    "    :param location: Region where the processor is deployed (e.g., \"us\")\n",
    "    :param processor_id: The ID of the Document AI processor\n",
    "    :param file_path: Path to the PDF file\n",
    "    \"\"\"\n",
    "    # Define the endpoint URL\n",
    "    endpoint = f\"https://{location}-documentai.googleapis.com/v1/projects/{project_id}/locations/{location}/processors/{processor_id}:process\"\n",
    "\n",
    "    # Read the file content\n",
    "    with open(file_path, \"rb\") as file:\n",
    "        file_content = file.read()\n",
    "\n",
    "    # Headers for the request\n",
    "    headers = {\n",
    "        \"Content-Type\": \"application/pdf\",\n",
    "        \"Authorization\": f\"Bearer {api_key}\",\n",
    "    }\n",
    "\n",
    "    # Send the request\n",
    "    response = requests.post(endpoint, headers=headers, data=file_content)\n",
    "\n",
    "    if response.status_code == 200:\n",
    "        result = response.json()\n",
    "        document = result.get(\"document\", {})\n",
    "        text = document.get(\"text\", \"\")\n",
    "        print(\"Document Text:\")\n",
    "        print(text)\n",
    "\n",
    "        # Optionally print entities if they exist\n",
    "        print(\"\\nExtracted Entities:\")\n",
    "        entities = document.get(\"entities\", [])\n",
    "        for entity in entities:\n",
    "            entity_type = entity.get(\"type\", \"Unknown\")\n",
    "            mention_text = entity.get(\"mentionText\", \"\")\n",
    "            print(f\"{entity_type}: {mention_text}\")\n",
    "    else:\n",
    "        print(\"Error:\", response.status_code, response.text)\n",
    "\n",
    "# Replace these variables with your details\n",
    "API_KEY = \"\"\n",
    "PROJECT_ID = \"ml-harvard-herbaria\"\n",
    "LOCATION = \"us\"  # Adjust as needed\n",
    "PROCESSOR_ID = \"\"\n",
    "FILE_PATH = \"Example 2.pdf\"\n",
    "\n",
    "# Call the function to process the document\n",
    "process_document(API_KEY, PROJECT_ID, LOCATION, PROCESSOR_ID, FILE_PATH)\n"
   ]
  }
 ],
 "metadata": {
  "kernelspec": {
   "display_name": "Python 3",
   "language": "python",
   "name": "python3"
  },
  "language_info": {
   "codemirror_mode": {
    "name": "ipython",
    "version": 3
   },
   "file_extension": ".py",
   "mimetype": "text/x-python",
   "name": "python",
   "nbconvert_exporter": "python",
   "pygments_lexer": "ipython3",
   "version": "3.12.5"
  }
 },
 "nbformat": 4,
 "nbformat_minor": 2
}
